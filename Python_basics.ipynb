{
 "cells": [
  {
   "cell_type": "code",
   "execution_count": 1,
   "id": "1851dda8",
   "metadata": {},
   "outputs": [],
   "source": [
    "a = 3+4j"
   ]
  },
  {
   "cell_type": "code",
   "execution_count": 2,
   "id": "0d5e443c",
   "metadata": {},
   "outputs": [
    {
     "data": {
      "text/plain": [
       "complex"
      ]
     },
     "execution_count": 2,
     "metadata": {},
     "output_type": "execute_result"
    }
   ],
   "source": [
    "type(a)"
   ]
  },
  {
   "cell_type": "code",
   "execution_count": 3,
   "id": "90f730d5",
   "metadata": {},
   "outputs": [
    {
     "data": {
      "text/plain": [
       "3.0"
      ]
     },
     "execution_count": 3,
     "metadata": {},
     "output_type": "execute_result"
    }
   ],
   "source": [
    "a.real"
   ]
  },
  {
   "cell_type": "code",
   "execution_count": 5,
   "id": "a289711f",
   "metadata": {},
   "outputs": [
    {
     "data": {
      "text/plain": [
       "4.0"
      ]
     },
     "execution_count": 5,
     "metadata": {},
     "output_type": "execute_result"
    }
   ],
   "source": [
    "a.imag"
   ]
  },
  {
   "cell_type": "code",
   "execution_count": 6,
   "id": "254df060",
   "metadata": {},
   "outputs": [],
   "source": [
    "a1= 34"
   ]
  },
  {
   "cell_type": "code",
   "execution_count": 7,
   "id": "1b0ebf23",
   "metadata": {},
   "outputs": [],
   "source": [
    "s = \"proma\""
   ]
  },
  {
   "cell_type": "code",
   "execution_count": 8,
   "id": "e428b1ec",
   "metadata": {},
   "outputs": [
    {
     "data": {
      "text/plain": [
       "'10proma'"
      ]
     },
     "execution_count": 8,
     "metadata": {},
     "output_type": "execute_result"
    }
   ],
   "source": [
    "\"10\"+ s"
   ]
  },
  {
   "cell_type": "code",
   "execution_count": 9,
   "id": "aef17a40",
   "metadata": {},
   "outputs": [
    {
     "data": {
      "text/plain": [
       "'34proma'"
      ]
     },
     "execution_count": 9,
     "metadata": {},
     "output_type": "execute_result"
    }
   ],
   "source": [
    "str(a1)+s"
   ]
  },
  {
   "cell_type": "code",
   "execution_count": 11,
   "id": "91a848ce",
   "metadata": {},
   "outputs": [
    {
     "name": "stdout",
     "output_type": "stream",
     "text": [
      "34853254\n"
     ]
    }
   ],
   "source": [
    "c = int(input())"
   ]
  },
  {
   "cell_type": "code",
   "execution_count": 12,
   "id": "f1f566f2",
   "metadata": {},
   "outputs": [
    {
     "data": {
      "text/plain": [
       "int"
      ]
     },
     "execution_count": 12,
     "metadata": {},
     "output_type": "execute_result"
    }
   ],
   "source": [
    "type(c)"
   ]
  },
  {
   "cell_type": "code",
   "execution_count": 14,
   "id": "cda2c34b",
   "metadata": {},
   "outputs": [],
   "source": [
    "### List\n",
    "\n",
    "l = [1,2,\"pro\", True, 4+3j]"
   ]
  },
  {
   "cell_type": "code",
   "execution_count": 15,
   "id": "2d6857b5",
   "metadata": {},
   "outputs": [
    {
     "data": {
      "text/plain": [
       "list"
      ]
     },
     "execution_count": 15,
     "metadata": {},
     "output_type": "execute_result"
    }
   ],
   "source": [
    "type(l)"
   ]
  },
  {
   "cell_type": "code",
   "execution_count": 16,
   "id": "bb5c3534",
   "metadata": {},
   "outputs": [
    {
     "data": {
      "text/plain": [
       "True"
      ]
     },
     "execution_count": 16,
     "metadata": {},
     "output_type": "execute_result"
    }
   ],
   "source": [
    "l[3]"
   ]
  },
  {
   "cell_type": "code",
   "execution_count": 17,
   "id": "b3a28a5c",
   "metadata": {},
   "outputs": [],
   "source": [
    "l[3] = 34767385696"
   ]
  },
  {
   "cell_type": "code",
   "execution_count": 18,
   "id": "f7a670e7",
   "metadata": {},
   "outputs": [
    {
     "data": {
      "text/plain": [
       "[1, 2, 'pro', 34767385696, (4+3j)]"
      ]
     },
     "execution_count": 18,
     "metadata": {},
     "output_type": "execute_result"
    }
   ],
   "source": [
    "l"
   ]
  },
  {
   "cell_type": "code",
   "execution_count": 19,
   "id": "f77ed5b0",
   "metadata": {},
   "outputs": [
    {
     "data": {
      "text/plain": [
       "'proma'"
      ]
     },
     "execution_count": 19,
     "metadata": {},
     "output_type": "execute_result"
    }
   ],
   "source": [
    "s"
   ]
  },
  {
   "cell_type": "code",
   "execution_count": 20,
   "id": "0cda1196",
   "metadata": {},
   "outputs": [
    {
     "data": {
      "text/plain": [
       "'o'"
      ]
     },
     "execution_count": 20,
     "metadata": {},
     "output_type": "execute_result"
    }
   ],
   "source": [
    "s[2]"
   ]
  },
  {
   "cell_type": "code",
   "execution_count": 21,
   "id": "5e9d1312",
   "metadata": {},
   "outputs": [
    {
     "ename": "TypeError",
     "evalue": "'str' object does not support item assignment",
     "output_type": "error",
     "traceback": [
      "\u001b[1;31m---------------------------------------------------------------------------\u001b[0m",
      "\u001b[1;31mTypeError\u001b[0m                                 Traceback (most recent call last)",
      "Cell \u001b[1;32mIn [21], line 1\u001b[0m\n\u001b[1;32m----> 1\u001b[0m \u001b[43ms\u001b[49m\u001b[43m[\u001b[49m\u001b[38;5;241;43m2\u001b[39;49m\u001b[43m]\u001b[49m \u001b[38;5;241m=\u001b[39m \u001b[38;5;124m\"\u001b[39m\u001b[38;5;124mr\u001b[39m\u001b[38;5;124m\"\u001b[39m\n",
      "\u001b[1;31mTypeError\u001b[0m: 'str' object does not support item assignment"
     ]
    }
   ],
   "source": [
    "s[2] = \"r\""
   ]
  },
  {
   "cell_type": "code",
   "execution_count": 22,
   "id": "56855ce6",
   "metadata": {},
   "outputs": [],
   "source": [
    "# Operator"
   ]
  },
  {
   "cell_type": "code",
   "execution_count": 23,
   "id": "09ce684e",
   "metadata": {},
   "outputs": [
    {
     "data": {
      "text/plain": [
       "8"
      ]
     },
     "execution_count": 23,
     "metadata": {},
     "output_type": "execute_result"
    }
   ],
   "source": [
    "2**3"
   ]
  },
  {
   "cell_type": "code",
   "execution_count": 24,
   "id": "de420c98",
   "metadata": {},
   "outputs": [
    {
     "data": {
      "text/plain": [
       "2"
      ]
     },
     "execution_count": 24,
     "metadata": {},
     "output_type": "execute_result"
    }
   ],
   "source": [
    "5%3"
   ]
  },
  {
   "cell_type": "code",
   "execution_count": 25,
   "id": "05c36881",
   "metadata": {},
   "outputs": [
    {
     "data": {
      "text/plain": [
       "1"
      ]
     },
     "execution_count": 25,
     "metadata": {},
     "output_type": "execute_result"
    }
   ],
   "source": [
    "4//3"
   ]
  },
  {
   "cell_type": "code",
   "execution_count": 27,
   "id": "6a9f6d62",
   "metadata": {},
   "outputs": [
    {
     "data": {
      "text/plain": [
       "5"
      ]
     },
     "execution_count": 27,
     "metadata": {},
     "output_type": "execute_result"
    }
   ],
   "source": [
    "21//4"
   ]
  },
  {
   "cell_type": "code",
   "execution_count": 28,
   "id": "68e4f2f2",
   "metadata": {},
   "outputs": [
    {
     "data": {
      "text/plain": [
       "False"
      ]
     },
     "execution_count": 28,
     "metadata": {},
     "output_type": "execute_result"
    }
   ],
   "source": [
    "1>2"
   ]
  },
  {
   "cell_type": "code",
   "execution_count": 29,
   "id": "bc16b8c1",
   "metadata": {},
   "outputs": [
    {
     "data": {
      "text/plain": [
       "False"
      ]
     },
     "execution_count": 29,
     "metadata": {},
     "output_type": "execute_result"
    }
   ],
   "source": [
    "1==2"
   ]
  },
  {
   "cell_type": "code",
   "execution_count": 30,
   "id": "f71df426",
   "metadata": {},
   "outputs": [
    {
     "data": {
      "text/plain": [
       "True"
      ]
     },
     "execution_count": 30,
     "metadata": {},
     "output_type": "execute_result"
    }
   ],
   "source": [
    "2<3"
   ]
  },
  {
   "cell_type": "code",
   "execution_count": 31,
   "id": "15e5dd5b",
   "metadata": {},
   "outputs": [
    {
     "data": {
      "text/plain": [
       "False"
      ]
     },
     "execution_count": 31,
     "metadata": {},
     "output_type": "execute_result"
    }
   ],
   "source": [
    "True and False"
   ]
  },
  {
   "cell_type": "code",
   "execution_count": 32,
   "id": "7d21fce4",
   "metadata": {},
   "outputs": [
    {
     "data": {
      "text/plain": [
       "True"
      ]
     },
     "execution_count": 32,
     "metadata": {},
     "output_type": "execute_result"
    }
   ],
   "source": [
    "True or False"
   ]
  },
  {
   "cell_type": "code",
   "execution_count": 33,
   "id": "3e45e2c5",
   "metadata": {},
   "outputs": [
    {
     "data": {
      "text/plain": [
       "False"
      ]
     },
     "execution_count": 33,
     "metadata": {},
     "output_type": "execute_result"
    }
   ],
   "source": [
    "not True"
   ]
  },
  {
   "cell_type": "code",
   "execution_count": 34,
   "id": "56679c61",
   "metadata": {},
   "outputs": [],
   "source": [
    "# while loop"
   ]
  },
  {
   "cell_type": "code",
   "execution_count": 35,
   "id": "184222a5",
   "metadata": {},
   "outputs": [
    {
     "name": "stdout",
     "output_type": "stream",
     "text": [
      "1\n",
      "2\n",
      "3\n",
      "4\n",
      "5\n"
     ]
    }
   ],
   "source": [
    "i = 1\n",
    "\n",
    "while i<=5:\n",
    "    print(i)\n",
    "    i+=1"
   ]
  },
  {
   "cell_type": "code",
   "execution_count": 36,
   "id": "3c57ea44",
   "metadata": {},
   "outputs": [],
   "source": [
    "def test_fib(n):\n",
    "    a, b = 0,1 \n",
    "    for i in range(n):\n",
    "        yield a\n",
    "        a,b = b, a+b"
   ]
  },
  {
   "cell_type": "code",
   "execution_count": 37,
   "id": "e59ac048",
   "metadata": {},
   "outputs": [
    {
     "data": {
      "text/plain": [
       "<generator object test_fib at 0x000001AC76D32510>"
      ]
     },
     "execution_count": 37,
     "metadata": {},
     "output_type": "execute_result"
    }
   ],
   "source": [
    "test_fib(10)"
   ]
  },
  {
   "cell_type": "code",
   "execution_count": 40,
   "id": "b5092f1b",
   "metadata": {},
   "outputs": [
    {
     "name": "stdout",
     "output_type": "stream",
     "text": [
      "0\n",
      "1\n",
      "1\n",
      "2\n",
      "3\n",
      "5\n",
      "8\n",
      "13\n",
      "21\n",
      "34\n"
     ]
    }
   ],
   "source": [
    "for i in test_fib(10):\n",
    "    print(i)"
   ]
  },
  {
   "cell_type": "code",
   "execution_count": 46,
   "id": "26fffa7e",
   "metadata": {},
   "outputs": [],
   "source": [
    "# Lambda function\n",
    "# adhoc function"
   ]
  },
  {
   "cell_type": "code",
   "execution_count": 42,
   "id": "c28c84ca",
   "metadata": {},
   "outputs": [],
   "source": [
    "n = 2\n",
    "p = 2\n",
    "\n",
    "def test(n,p):\n",
    "    return n**p\n"
   ]
  },
  {
   "cell_type": "code",
   "execution_count": 43,
   "id": "cb01f49a",
   "metadata": {},
   "outputs": [
    {
     "data": {
      "text/plain": [
       "8"
      ]
     },
     "execution_count": 43,
     "metadata": {},
     "output_type": "execute_result"
    }
   ],
   "source": [
    "test(2,3)"
   ]
  },
  {
   "cell_type": "code",
   "execution_count": 44,
   "id": "c1f71880",
   "metadata": {},
   "outputs": [
    {
     "data": {
      "text/plain": [
       "<function __main__.<lambda>(n, p)>"
      ]
     },
     "execution_count": 44,
     "metadata": {},
     "output_type": "execute_result"
    }
   ],
   "source": [
    "lambda n, p: n**p"
   ]
  },
  {
   "cell_type": "code",
   "execution_count": 47,
   "id": "2d95e3bb",
   "metadata": {},
   "outputs": [],
   "source": [
    "a = lambda n, p: n**p"
   ]
  },
  {
   "cell_type": "code",
   "execution_count": 48,
   "id": "3e9e1776",
   "metadata": {},
   "outputs": [
    {
     "data": {
      "text/plain": [
       "8"
      ]
     },
     "execution_count": 48,
     "metadata": {},
     "output_type": "execute_result"
    }
   ],
   "source": [
    "a(2,3)"
   ]
  },
  {
   "cell_type": "code",
   "execution_count": 50,
   "id": "c9918fd5",
   "metadata": {},
   "outputs": [
    {
     "data": {
      "text/plain": [
       "5"
      ]
     },
     "execution_count": 50,
     "metadata": {},
     "output_type": "execute_result"
    }
   ],
   "source": [
    "b = lambda x,y: x+y\n",
    "b(1,4)"
   ]
  },
  {
   "cell_type": "code",
   "execution_count": 51,
   "id": "11963cf5",
   "metadata": {},
   "outputs": [],
   "source": [
    "c_to_f = lambda c: (9/5)*c +32"
   ]
  },
  {
   "cell_type": "code",
   "execution_count": 55,
   "id": "e04c7ddf",
   "metadata": {},
   "outputs": [
    {
     "data": {
      "text/plain": [
       "100.4"
      ]
     },
     "execution_count": 55,
     "metadata": {},
     "output_type": "execute_result"
    }
   ],
   "source": [
    "c_to_f(38)"
   ]
  },
  {
   "cell_type": "code",
   "execution_count": 56,
   "id": "0dc9c088",
   "metadata": {},
   "outputs": [],
   "source": [
    "max_two = lambda x,y: x if x>y else y"
   ]
  },
  {
   "cell_type": "code",
   "execution_count": 57,
   "id": "916da87e",
   "metadata": {},
   "outputs": [
    {
     "data": {
      "text/plain": [
       "3"
      ]
     },
     "execution_count": 57,
     "metadata": {},
     "output_type": "execute_result"
    }
   ],
   "source": [
    "max_two(2,3)"
   ]
  },
  {
   "cell_type": "code",
   "execution_count": 58,
   "id": "52a2647d",
   "metadata": {},
   "outputs": [],
   "source": [
    "# MAP , REDUCE fILTER FUNCTION"
   ]
  },
  {
   "cell_type": "code",
   "execution_count": 59,
   "id": "0c83da50",
   "metadata": {},
   "outputs": [],
   "source": [
    "l = [1,2,3,4,5]\n",
    "def test(l):\n",
    "    l1 = []\n",
    "    for i in l:\n",
    "        l1.append(i**2)\n",
    "        \n",
    "    return l1"
   ]
  },
  {
   "cell_type": "code",
   "execution_count": 60,
   "id": "f1a20a47",
   "metadata": {},
   "outputs": [
    {
     "data": {
      "text/plain": [
       "[1, 4, 9, 16, 25]"
      ]
     },
     "execution_count": 60,
     "metadata": {},
     "output_type": "execute_result"
    }
   ],
   "source": [
    "test(l)"
   ]
  },
  {
   "cell_type": "code",
   "execution_count": 61,
   "id": "a6f82ba0",
   "metadata": {},
   "outputs": [
    {
     "data": {
      "text/plain": [
       "[1, 4, 9, 16, 25]"
      ]
     },
     "execution_count": 61,
     "metadata": {},
     "output_type": "execute_result"
    }
   ],
   "source": [
    "# MAP Function\n",
    "\n",
    "def sq(x):\n",
    "    return x**2\n",
    "\n",
    "list(map(sq, l))"
   ]
  },
  {
   "cell_type": "code",
   "execution_count": null,
   "id": "8634f0cf",
   "metadata": {},
   "outputs": [],
   "source": []
  }
 ],
 "metadata": {
  "kernelspec": {
   "display_name": "Python 3 (ipykernel)",
   "language": "python",
   "name": "python3"
  },
  "language_info": {
   "codemirror_mode": {
    "name": "ipython",
    "version": 3
   },
   "file_extension": ".py",
   "mimetype": "text/x-python",
   "name": "python",
   "nbconvert_exporter": "python",
   "pygments_lexer": "ipython3",
   "version": "3.9.13"
  }
 },
 "nbformat": 4,
 "nbformat_minor": 5
}
